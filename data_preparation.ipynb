{
 "cells": [
  {
   "cell_type": "code",
   "execution_count": null,
   "metadata": {},
   "outputs": [],
   "source": [
    "import pandas as pd\n",
    "import numpy as np\n",
    "import os\n",
    "import plotly.express as px\n",
    "import datetime\n",
    "import calendar\n",
    "from sklearn.preprocessing import LabelEncoder\n",
    "from sklearn.model_selection import train_test_split\n",
    "from sklearn.impute import SimpleImputer\n",
    "import plotly.graph_objects as go\n",
    "import numpy as np"
   ]
  },
  {
   "cell_type": "code",
   "execution_count": null,
   "metadata": {},
   "outputs": [],
   "source": [
    "# Import dataset\n",
    "df = pd.read_csv(os.path.join(os.getcwd(), \"data\", \"bank-dataset.csv\"))\n",
    "df.shape"
   ]
  },
  {
   "cell_type": "code",
   "execution_count": null,
   "metadata": {},
   "outputs": [],
   "source": [
    "# Check month-day validity (suppose year is 2021) \n",
    "\n",
    "def date_is_valid(day, month, year=2021):\n",
    "    # This function check if a date is valid\n",
    "    try: \n",
    "        datetime.date(year, month, day)\n",
    "    except:\n",
    "        return False\n",
    "    return True\n",
    "\n",
    "calendar_dict = {month.lower(): index for index, month in enumerate(calendar.month_abbr) if month} # mapping calendar short name to ordinal month number\n",
    "df['month'].replace(calendar_dict, inplace=True) # replacing month name with numeric values\n",
    "df['date_is_valid'] = df[['day','month']].apply(lambda x: date_is_valid(x[0],x[1]), axis=1) # check for validity\n",
    "print(f\"There are {sum(df['date_is_valid']==False)} invalid dates\")\n",
    "\n",
    "df = df[df['date_is_valid']==True] # Keep valid dates\n",
    "df.drop(columns=['date_is_valid'], inplace=True) # Valid date column is useless from now on\n",
    "\n",
    "# Instead of keeping month and day, I want to have the number of days since beginning of the year\n",
    "df['last_contact_day'] = df[['day','month']].apply(lambda x: (datetime.date(2021, x[1],x[0]) - datetime.date(2021, 1,1)).days, axis=1)\n",
    "df.drop(columns=['day','month'], inplace=True)"
   ]
  },
  {
   "cell_type": "code",
   "execution_count": null,
   "metadata": {},
   "outputs": [],
   "source": [
    "# Uniformy the marital column. There are 3 possible category whose name start with a different letter. The fastest way to uniformy the value in this case is to take the initial letter.\n",
    "df['marital'] = df['marital'].apply(lambda x: x[0].lower())"
   ]
  },
  {
   "cell_type": "code",
   "execution_count": null,
   "metadata": {},
   "outputs": [],
   "source": [
    "# Check for invalid duration vaues\n",
    "invalid_duration = (df['duration']==0).sum()\n",
    "print(f\"There are {invalid_duration} invalid duration values. Drop them\")"
   ]
  },
  {
   "cell_type": "code",
   "execution_count": null,
   "metadata": {},
   "outputs": [],
   "source": [
    "# Check unbalanced target variable\n",
    "le = LabelEncoder()\n",
    "df[\"y\"] = le.fit_transform(df[\"y\"])\n",
    "df['y'].value_counts() / len(df)\n",
    "\n",
    "# Remove target from dataset\n",
    "y = df[\"y\"]\n",
    "df.drop(columns=[\"y\"], inplace=True)"
   ]
  },
  {
   "cell_type": "code",
   "execution_count": null,
   "metadata": {},
   "outputs": [],
   "source": [
    "# Select numerical and categorical features\n",
    "numerical_features = [\"age\", \"balance\", \"duration\", \"campaign\", \"pdays\", \"previous\",\"last_contact_day\"]\n",
    "categorical_features = [col for col in df.columns if col not in numerical_features]"
   ]
  },
  {
   "cell_type": "code",
   "execution_count": null,
   "metadata": {},
   "outputs": [],
   "source": [
    "# Check for correlated numerical features\n",
    "df_corr = df[numerical_features].corr() \n",
    "fig = px.imshow(df_corr, aspect='auto', color_continuous_scale='Reds')\n",
    "fig.layout.height = 600\n",
    "fig.layout.width = 600\n",
    "fig.show()"
   ]
  },
  {
   "cell_type": "code",
   "execution_count": null,
   "metadata": {},
   "outputs": [],
   "source": [
    "# BoxPlot for outlier\n",
    "fig = px.box(df[numerical_features].melt(), y='value', facet_col='variable').update_yaxes(matches=None)\n",
    "fig.show()"
   ]
  },
  {
   "cell_type": "code",
   "execution_count": null,
   "metadata": {},
   "outputs": [],
   "source": [
    "# Split train and tes\n",
    "X_train, X_test, y_train, y_test = train_test_split(df, y, test_size=0.33, random_state=0, stratify=y)"
   ]
  },
  {
   "cell_type": "code",
   "execution_count": null,
   "metadata": {},
   "outputs": [],
   "source": [
    "# Check for nan\n",
    "X_train.isna().sum()"
   ]
  },
  {
   "cell_type": "code",
   "execution_count": null,
   "metadata": {},
   "outputs": [],
   "source": [
    "# To treat outlier, set them to nan and proced with and missing value inputation (since we have already other nan to impute)\n",
    "X_train.loc[X_train['age'] > 100,'age'] = np.nan\n",
    "X_train.loc[X_train['age'] < 18, 'age'] = np.nan\n",
    "X_train.loc[X_train['previous'] > 20, 'previous'] = np.nan"
   ]
  },
  {
   "cell_type": "code",
   "execution_count": null,
   "metadata": {},
   "outputs": [],
   "source": [
    "# Value imputation: using median for numeric feature (some feateures have skewed distribution) and mode for categorial\n",
    "imputer_numeric = SimpleImputer(strategy='median')\n",
    "imputer_categoric = SimpleImputer(strategy='most_frequent')\n",
    "\n",
    "imputer_numeric.fit(X_train[numerical_features])\n",
    "imputer_categoric.fit(X_train[categorical_features])\n",
    "\n",
    "\n",
    "X_train[numerical_features] = imputer_numeric.transform(X_train[numerical_features])\n",
    "X_test[numerical_features] = imputer_numeric.transform(X_test[numerical_features])\n",
    "X_train[categorical_features] = imputer_categoric.transform(X_train[categorical_features])\n",
    "X_test[categorical_features] = imputer_categoric.transform(X_test[categorical_features])\n"
   ]
  },
  {
   "cell_type": "code",
   "execution_count": null,
   "metadata": {},
   "outputs": [],
   "source": [
    "# BoxPlot for outlier\n",
    "fig = px.box(X_train[numerical_features].melt(), y='value', facet_col='variable').update_yaxes(matches=None)\n",
    "fig.show()"
   ]
  },
  {
   "cell_type": "code",
   "execution_count": null,
   "metadata": {},
   "outputs": [],
   "source": [
    "# Save dateset to use in different models\n",
    "X_train.to_csv(os.path.join(os.getcwd(), \"data\", \"X_train.csv\"), index=False)\n",
    "X_test.to_csv(os.path.join(os.getcwd(), \"data\", \"X_test.csv\"), index=False)\n",
    "y_train.to_csv(os.path.join(os.getcwd(), \"data\", \"y_train.csv\"), index=False)\n",
    "y_test.to_csv(os.path.join(os.getcwd(), \"data\", \"y_test.csv\"), index=False)"
   ]
  },
  {
   "cell_type": "code",
   "execution_count": null,
   "metadata": {},
   "outputs": [],
   "source": []
  }
 ],
 "metadata": {
  "kernelspec": {
   "display_name": "Python 3.10.6 ('venv': venv)",
   "language": "python",
   "name": "python3"
  },
  "language_info": {
   "codemirror_mode": {
    "name": "ipython",
    "version": 3
   },
   "file_extension": ".py",
   "mimetype": "text/x-python",
   "name": "python",
   "nbconvert_exporter": "python",
   "pygments_lexer": "ipython3",
   "version": "3.10.6"
  },
  "orig_nbformat": 4,
  "vscode": {
   "interpreter": {
    "hash": "e6b640dea27f07f1ecf59808c3749c301dd06751a38fd49af9f594cecdfa758d"
   }
  }
 },
 "nbformat": 4,
 "nbformat_minor": 2
}
